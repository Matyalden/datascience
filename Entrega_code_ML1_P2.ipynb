{
  "cells": [
    {
      "cell_type": "code",
      "execution_count": 212,
      "metadata": {},
      "outputs": [],
      "source": [
        "import pandas as pd #libreria de analisis de datos y herramientas de manipulación\n",
        "import matplotlib.pyplot as plt #libreria para generacion de graficos\n",
        "import numpy as np\n",
        "\n",
        "from sklearn.preprocessing import StandardScaler\n",
        "from scipy.cluster.hierarchy import dendrogram, linkage\n",
        "from scipy.cluster.hierarchy import fcluster\n",
        "from scipy.spatial.distance import pdist, squareform\n",
        "from scipy import stats"
      ]
    },
    {
      "cell_type": "code",
      "execution_count": 213,
      "metadata": {
        "id": "N5ZxVL99Yeep"
      },
      "outputs": [],
      "source": [
        "mba=\"SegmentationData.csv\"\n",
        "\n",
        "#ubicacion de datos y notebook en mismo directorio\n",
        "df_mba = pd.read_csv(mba)"
      ]
    },
    {
      "attachments": {},
      "cell_type": "markdown",
      "metadata": {
        "id": "gEW_Hke0abOi"
      },
      "source": [
        "\n",
        "Estudio base de datos SegmentacionData.csv\n",
        "Cluster Jerárquico para k=4 \n",
        "\n",
        "\n",
        "---"
      ]
    },
    {
      "cell_type": "code",
      "execution_count": 243,
      "metadata": {},
      "outputs": [
        {
          "data": {
            "text/html": [
              "<div>\n",
              "<style scoped>\n",
              "    .dataframe tbody tr th:only-of-type {\n",
              "        vertical-align: middle;\n",
              "    }\n",
              "\n",
              "    .dataframe tbody tr th {\n",
              "        vertical-align: top;\n",
              "    }\n",
              "\n",
              "    .dataframe thead th {\n",
              "        text-align: right;\n",
              "    }\n",
              "</style>\n",
              "<table border=\"1\" class=\"dataframe\">\n",
              "  <thead>\n",
              "    <tr style=\"text-align: right;\">\n",
              "      <th></th>\n",
              "      <th>ID</th>\n",
              "      <th>Trendy</th>\n",
              "      <th>Styling</th>\n",
              "      <th>Reliability</th>\n",
              "      <th>Sportiness</th>\n",
              "      <th>Performance</th>\n",
              "      <th>Comfort</th>\n",
              "      <th>MBA</th>\n",
              "      <th>Choice</th>\n",
              "    </tr>\n",
              "  </thead>\n",
              "  <tbody>\n",
              "    <tr>\n",
              "      <th>0</th>\n",
              "      <td>1</td>\n",
              "      <td>10</td>\n",
              "      <td>20</td>\n",
              "      <td>35</td>\n",
              "      <td>5</td>\n",
              "      <td>20</td>\n",
              "      <td>10</td>\n",
              "      <td>MBA</td>\n",
              "      <td>Lexus</td>\n",
              "    </tr>\n",
              "    <tr>\n",
              "      <th>1</th>\n",
              "      <td>2</td>\n",
              "      <td>25</td>\n",
              "      <td>5</td>\n",
              "      <td>25</td>\n",
              "      <td>5</td>\n",
              "      <td>25</td>\n",
              "      <td>15</td>\n",
              "      <td>MBA</td>\n",
              "      <td>BMW</td>\n",
              "    </tr>\n",
              "    <tr>\n",
              "      <th>2</th>\n",
              "      <td>3</td>\n",
              "      <td>10</td>\n",
              "      <td>20</td>\n",
              "      <td>30</td>\n",
              "      <td>10</td>\n",
              "      <td>10</td>\n",
              "      <td>20</td>\n",
              "      <td>MBA</td>\n",
              "      <td>Lexus</td>\n",
              "    </tr>\n",
              "    <tr>\n",
              "      <th>3</th>\n",
              "      <td>4</td>\n",
              "      <td>10</td>\n",
              "      <td>15</td>\n",
              "      <td>30</td>\n",
              "      <td>10</td>\n",
              "      <td>20</td>\n",
              "      <td>15</td>\n",
              "      <td>MBA</td>\n",
              "      <td>BMW</td>\n",
              "    </tr>\n",
              "    <tr>\n",
              "      <th>4</th>\n",
              "      <td>5</td>\n",
              "      <td>20</td>\n",
              "      <td>10</td>\n",
              "      <td>40</td>\n",
              "      <td>1</td>\n",
              "      <td>14</td>\n",
              "      <td>15</td>\n",
              "      <td>MBA</td>\n",
              "      <td>Mercedes</td>\n",
              "    </tr>\n",
              "  </tbody>\n",
              "</table>\n",
              "</div>"
            ],
            "text/plain": [
              "   ID  Trendy  Styling  Reliability  Sportiness  Performance  Comfort  MBA   \n",
              "0   1      10       20           35           5           20       10  MBA  \\\n",
              "1   2      25        5           25           5           25       15  MBA   \n",
              "2   3      10       20           30          10           10       20  MBA   \n",
              "3   4      10       15           30          10           20       15  MBA   \n",
              "4   5      20       10           40           1           14       15  MBA   \n",
              "\n",
              "     Choice  \n",
              "0     Lexus  \n",
              "1       BMW  \n",
              "2     Lexus  \n",
              "3       BMW  \n",
              "4  Mercedes  "
            ]
          },
          "execution_count": 243,
          "metadata": {},
          "output_type": "execute_result"
        }
      ],
      "source": [
        "df_mba.head(5)"
      ]
    },
    {
      "cell_type": "code",
      "execution_count": 244,
      "metadata": {
        "id": "SMoDSEUJUd9c"
      },
      "outputs": [],
      "source": [
        "df_mba = df_mba.drop(\"ID\",axis=1) #eliminar columna ID\n",
        "para_cluster = df_mba.iloc[:,:6] #puntajes features de acuerdo al entrevistado\n",
        "mba_ = df_mba.iloc[:,6] #estudios\n",
        "choice_ = df_mba.iloc[:,7] #estudios"
      ]
    },
    {
      "cell_type": "code",
      "execution_count": 245,
      "metadata": {
        "id": "JPXZq1_zVoDu"
      },
      "outputs": [
        {
          "data": {
            "image/png": "[encoded data removed]",
            "text/plain": [
              "<Figure size 640x480 with 1 Axes>"
            ]
          },
          "metadata": {},
          "output_type": "display_data"
        }
      ],
      "source": [
        "#Estandarización {promedio = 0 y desviación std. = 1}\n",
        "scaler = StandardScaler()\n",
        "new_scaled = scaler.fit_transform(para_cluster)\n",
        "new_scaled = pd.DataFrame(new_scaled, columns = para_cluster.columns)\n",
        "#Criterio distancias para cluster\n",
        "link = linkage(new_scaled, 'ward')\n",
        "#Dendograma para k = 4\n",
        "dendrograma = dendrogram(link, p=20,truncate_mode=\"lastp\", color_threshold=8) #corte distancia 8 para 4 clusters\n",
        "plt.title(\"Cluster Jerarquico\")\n",
        "plt.ylabel(\"Distancia\")\n",
        "plt.show()"
      ]
    },
    {
      "cell_type": "code",
      "execution_count": 246,
      "metadata": {
        "colab": {
          "base_uri": "https://localhost:8080/",
          "height": 205
        },
        "id": "IB4S8nIQapgT",
        "outputId": "ddbaf410-c67e-411f-c12a-88f6e84fef70"
      },
      "outputs": [
        {
          "data": {
            "text/html": [
              "<div>\n",
              "<style scoped>\n",
              "    .dataframe tbody tr th:only-of-type {\n",
              "        vertical-align: middle;\n",
              "    }\n",
              "\n",
              "    .dataframe tbody tr th {\n",
              "        vertical-align: top;\n",
              "    }\n",
              "\n",
              "    .dataframe thead th {\n",
              "        text-align: right;\n",
              "    }\n",
              "</style>\n",
              "<table border=\"1\" class=\"dataframe\">\n",
              "  <thead>\n",
              "    <tr style=\"text-align: right;\">\n",
              "      <th></th>\n",
              "      <th>Trendy</th>\n",
              "      <th>Styling</th>\n",
              "      <th>Reliability</th>\n",
              "      <th>Sportiness</th>\n",
              "      <th>Performance</th>\n",
              "      <th>Comfort</th>\n",
              "    </tr>\n",
              "    <tr>\n",
              "      <th>Cluster</th>\n",
              "      <th></th>\n",
              "      <th></th>\n",
              "      <th></th>\n",
              "      <th></th>\n",
              "      <th></th>\n",
              "      <th></th>\n",
              "    </tr>\n",
              "  </thead>\n",
              "  <tbody>\n",
              "    <tr>\n",
              "      <th>1</th>\n",
              "      <td>1.155191</td>\n",
              "      <td>0.861136</td>\n",
              "      <td>-0.661150</td>\n",
              "      <td>0.164594</td>\n",
              "      <td>-0.925642</td>\n",
              "      <td>-0.702773</td>\n",
              "    </tr>\n",
              "    <tr>\n",
              "      <th>2</th>\n",
              "      <td>-0.015888</td>\n",
              "      <td>-0.427848</td>\n",
              "      <td>-0.283534</td>\n",
              "      <td>0.503985</td>\n",
              "      <td>-0.099608</td>\n",
              "      <td>0.590267</td>\n",
              "    </tr>\n",
              "    <tr>\n",
              "      <th>3</th>\n",
              "      <td>-1.116719</td>\n",
              "      <td>1.128926</td>\n",
              "      <td>-0.052305</td>\n",
              "      <td>-0.030368</td>\n",
              "      <td>0.750728</td>\n",
              "      <td>-0.748559</td>\n",
              "    </tr>\n",
              "    <tr>\n",
              "      <th>4</th>\n",
              "      <td>-0.507057</td>\n",
              "      <td>-0.688448</td>\n",
              "      <td>1.107377</td>\n",
              "      <td>-0.952241</td>\n",
              "      <td>0.659334</td>\n",
              "      <td>0.087023</td>\n",
              "    </tr>\n",
              "  </tbody>\n",
              "</table>\n",
              "</div>"
            ],
            "text/plain": [
              "           Trendy   Styling  Reliability  Sportiness  Performance   Comfort\n",
              "Cluster                                                                    \n",
              "1        1.155191  0.861136    -0.661150    0.164594    -0.925642 -0.702773\n",
              "2       -0.015888 -0.427848    -0.283534    0.503985    -0.099608  0.590267\n",
              "3       -1.116719  1.128926    -0.052305   -0.030368     0.750728 -0.748559\n",
              "4       -0.507057 -0.688448     1.107377   -0.952241     0.659334  0.087023"
            ]
          },
          "execution_count": 246,
          "metadata": {},
          "output_type": "execute_result"
        }
      ],
      "source": [
        "labels = fcluster(link, 8, criterion='distance')\n",
        "new_scaled[\"Cluster\"] = labels\n",
        "new_scaled.groupby([\"Cluster\"]).mean()"
      ]
    },
    {
      "cell_type": "markdown",
      "metadata": {
        "id": "aQYyV9CAAHVM"
      },
      "source": [
        "* **CLUSTER 1 \"TENDENCIAS\"**: Le interesa un auto en tendencias, moderno y con estilo, sacrificando su rendimiento y comodidad.\n",
        "* **CLUSTER 2 \"COMODIDAD\"**: Le interesa un auto Cómodo y Deportivo, sacrificando el estilo.\n",
        "* **CLUSTER 3 \"CLÁSICOS\"**: Le interesa la Performance, pero sobre todo un auto con Estilo que no esté en las tendencias.\n",
        "* **CLUSTER 4 \"CALIDAD\"**: Le interesa un auto seguro y de confianza, con buen rendimiento, sacrificando los estilo deportivos.\n"
      ]
    },
    {
      "cell_type": "code",
      "execution_count": 247,
      "metadata": {
        "id": "VdWt0obRaW3y"
      },
      "outputs": [],
      "source": [
        "names = {1:\"Tendencias\", 2:\"Comodidad\", 3:\"Clásicos\" , 4:\"Calidad\"} \n",
        "df_mba[\"Cluster\"] = labels\n",
        "df_mba = df_mba.replace({\"Cluster\": names})"
      ]
    },
    {
      "cell_type": "code",
      "execution_count": 248,
      "metadata": {
        "colab": {
          "base_uri": "https://localhost:8080/",
          "height": 205
        },
        "id": "sWP19bWFBuE5",
        "outputId": "2ac7e76a-d344-4043-ff32-27b0501fa37a"
      },
      "outputs": [
        {
          "data": {
            "text/html": [
              "<div>\n",
              "<style scoped>\n",
              "    .dataframe tbody tr th:only-of-type {\n",
              "        vertical-align: middle;\n",
              "    }\n",
              "\n",
              "    .dataframe tbody tr th {\n",
              "        vertical-align: top;\n",
              "    }\n",
              "\n",
              "    .dataframe thead th {\n",
              "        text-align: right;\n",
              "    }\n",
              "</style>\n",
              "<table border=\"1\" class=\"dataframe\">\n",
              "  <thead>\n",
              "    <tr style=\"text-align: right;\">\n",
              "      <th></th>\n",
              "      <th>Trendy</th>\n",
              "      <th>Styling</th>\n",
              "      <th>Reliability</th>\n",
              "      <th>Sportiness</th>\n",
              "      <th>Performance</th>\n",
              "      <th>Comfort</th>\n",
              "      <th>MBA</th>\n",
              "      <th>Choice</th>\n",
              "      <th>Cluster</th>\n",
              "    </tr>\n",
              "  </thead>\n",
              "  <tbody>\n",
              "    <tr>\n",
              "      <th>0</th>\n",
              "      <td>10</td>\n",
              "      <td>20</td>\n",
              "      <td>35</td>\n",
              "      <td>5</td>\n",
              "      <td>20</td>\n",
              "      <td>10</td>\n",
              "      <td>MBA</td>\n",
              "      <td>Lexus</td>\n",
              "      <td>Calidad</td>\n",
              "    </tr>\n",
              "    <tr>\n",
              "      <th>1</th>\n",
              "      <td>25</td>\n",
              "      <td>5</td>\n",
              "      <td>25</td>\n",
              "      <td>5</td>\n",
              "      <td>25</td>\n",
              "      <td>15</td>\n",
              "      <td>MBA</td>\n",
              "      <td>BMW</td>\n",
              "      <td>Calidad</td>\n",
              "    </tr>\n",
              "    <tr>\n",
              "      <th>2</th>\n",
              "      <td>10</td>\n",
              "      <td>20</td>\n",
              "      <td>30</td>\n",
              "      <td>10</td>\n",
              "      <td>10</td>\n",
              "      <td>20</td>\n",
              "      <td>MBA</td>\n",
              "      <td>Lexus</td>\n",
              "      <td>Comodidad</td>\n",
              "    </tr>\n",
              "    <tr>\n",
              "      <th>3</th>\n",
              "      <td>10</td>\n",
              "      <td>15</td>\n",
              "      <td>30</td>\n",
              "      <td>10</td>\n",
              "      <td>20</td>\n",
              "      <td>15</td>\n",
              "      <td>MBA</td>\n",
              "      <td>BMW</td>\n",
              "      <td>Calidad</td>\n",
              "    </tr>\n",
              "    <tr>\n",
              "      <th>4</th>\n",
              "      <td>20</td>\n",
              "      <td>10</td>\n",
              "      <td>40</td>\n",
              "      <td>1</td>\n",
              "      <td>14</td>\n",
              "      <td>15</td>\n",
              "      <td>MBA</td>\n",
              "      <td>Mercedes</td>\n",
              "      <td>Calidad</td>\n",
              "    </tr>\n",
              "    <tr>\n",
              "      <th>5</th>\n",
              "      <td>20</td>\n",
              "      <td>30</td>\n",
              "      <td>10</td>\n",
              "      <td>20</td>\n",
              "      <td>10</td>\n",
              "      <td>10</td>\n",
              "      <td>MBA</td>\n",
              "      <td>Lexus</td>\n",
              "      <td>Tendencias</td>\n",
              "    </tr>\n",
              "    <tr>\n",
              "      <th>6</th>\n",
              "      <td>10</td>\n",
              "      <td>13</td>\n",
              "      <td>20</td>\n",
              "      <td>17</td>\n",
              "      <td>25</td>\n",
              "      <td>15</td>\n",
              "      <td>MBA</td>\n",
              "      <td>Lexus</td>\n",
              "      <td>Comodidad</td>\n",
              "    </tr>\n",
              "    <tr>\n",
              "      <th>7</th>\n",
              "      <td>15</td>\n",
              "      <td>10</td>\n",
              "      <td>35</td>\n",
              "      <td>10</td>\n",
              "      <td>25</td>\n",
              "      <td>5</td>\n",
              "      <td>MBA</td>\n",
              "      <td>Lexus</td>\n",
              "      <td>Calidad</td>\n",
              "    </tr>\n",
              "    <tr>\n",
              "      <th>8</th>\n",
              "      <td>1</td>\n",
              "      <td>13</td>\n",
              "      <td>25</td>\n",
              "      <td>1</td>\n",
              "      <td>35</td>\n",
              "      <td>25</td>\n",
              "      <td>MBA</td>\n",
              "      <td>Lexus</td>\n",
              "      <td>Calidad</td>\n",
              "    </tr>\n",
              "    <tr>\n",
              "      <th>9</th>\n",
              "      <td>15</td>\n",
              "      <td>20</td>\n",
              "      <td>20</td>\n",
              "      <td>10</td>\n",
              "      <td>25</td>\n",
              "      <td>10</td>\n",
              "      <td>MBA</td>\n",
              "      <td>BMW</td>\n",
              "      <td>Clásicos</td>\n",
              "    </tr>\n",
              "  </tbody>\n",
              "</table>\n",
              "</div>"
            ],
            "text/plain": [
              "   Trendy  Styling  Reliability  Sportiness  Performance  Comfort  MBA   \n",
              "0      10       20           35           5           20       10  MBA  \\\n",
              "1      25        5           25           5           25       15  MBA   \n",
              "2      10       20           30          10           10       20  MBA   \n",
              "3      10       15           30          10           20       15  MBA   \n",
              "4      20       10           40           1           14       15  MBA   \n",
              "5      20       30           10          20           10       10  MBA   \n",
              "6      10       13           20          17           25       15  MBA   \n",
              "7      15       10           35          10           25        5  MBA   \n",
              "8       1       13           25           1           35       25  MBA   \n",
              "9      15       20           20          10           25       10  MBA   \n",
              "\n",
              "     Choice     Cluster  \n",
              "0     Lexus     Calidad  \n",
              "1       BMW     Calidad  \n",
              "2     Lexus   Comodidad  \n",
              "3       BMW     Calidad  \n",
              "4  Mercedes     Calidad  \n",
              "5     Lexus  Tendencias  \n",
              "6     Lexus   Comodidad  \n",
              "7     Lexus     Calidad  \n",
              "8     Lexus     Calidad  \n",
              "9       BMW    Clásicos  "
            ]
          },
          "execution_count": 248,
          "metadata": {},
          "output_type": "execute_result"
        }
      ],
      "source": [
        "df_mba.head(10) #Agregado el cluster al df"
      ]
    },
    {
      "cell_type": "markdown",
      "metadata": {
        "id": "mllxV9PBEXv2"
      },
      "source": [
        "#### MBA vs Choice"
      ]
    },
    {
      "cell_type": "code",
      "execution_count": 249,
      "metadata": {
        "colab": {
          "base_uri": "https://localhost:8080/",
          "height": 143
        },
        "id": "-cPzGYRuUeM5",
        "outputId": "3351ae08-f64b-457a-e1d4-fd1b2ffa7595"
      },
      "outputs": [
        {
          "data": {
            "text/html": [
              "<div>\n",
              "<style scoped>\n",
              "    .dataframe tbody tr th:only-of-type {\n",
              "        vertical-align: middle;\n",
              "    }\n",
              "\n",
              "    .dataframe tbody tr th {\n",
              "        vertical-align: top;\n",
              "    }\n",
              "\n",
              "    .dataframe thead th {\n",
              "        text-align: right;\n",
              "    }\n",
              "</style>\n",
              "<table border=\"1\" class=\"dataframe\">\n",
              "  <thead>\n",
              "    <tr style=\"text-align: right;\">\n",
              "      <th>Choice</th>\n",
              "      <th>BMW</th>\n",
              "      <th>Lexus</th>\n",
              "      <th>Mercedes</th>\n",
              "    </tr>\n",
              "    <tr>\n",
              "      <th>MBA</th>\n",
              "      <th></th>\n",
              "      <th></th>\n",
              "      <th></th>\n",
              "    </tr>\n",
              "  </thead>\n",
              "  <tbody>\n",
              "    <tr>\n",
              "      <th>MBA</th>\n",
              "      <td>11</td>\n",
              "      <td>10</td>\n",
              "      <td>3</td>\n",
              "    </tr>\n",
              "    <tr>\n",
              "      <th>Undergrad</th>\n",
              "      <td>21</td>\n",
              "      <td>12</td>\n",
              "      <td>16</td>\n",
              "    </tr>\n",
              "  </tbody>\n",
              "</table>\n",
              "</div>"
            ],
            "text/plain": [
              "Choice     BMW  Lexus  Mercedes\n",
              "MBA                            \n",
              "MBA         11     10         3\n",
              "Undergrad   21     12        16"
            ]
          },
          "execution_count": 249,
          "metadata": {},
          "output_type": "execute_result"
        }
      ],
      "source": [
        "tabla=pd.crosstab(df_mba.MBA, df_mba.Choice, margins=False)\n",
        "tabla"
      ]
    },
    {
      "cell_type": "code",
      "execution_count": 250,
      "metadata": {
        "colab": {
          "base_uri": "https://localhost:8080/"
        },
        "id": "Nwz4hyoUCizz",
        "outputId": "d0a148d8-c170-4c2a-d0ca-219b17d38d2a"
      },
      "outputs": [
        {
          "name": "stdout",
          "output_type": "stream",
          "text": [
            "[[10.52054795  7.23287671  6.24657534]\n",
            " [21.47945205 14.76712329 12.75342466]]\n"
          ]
        }
      ],
      "source": [
        "f_obs = np.array([tabla.iloc[0][:].values,\n",
        "                 tabla.iloc[1][:].values])\n",
        "#IMPRIME TABLA DE VALORES ESPERADOS\n",
        "print(stats.chi2_contingency(f_obs)[3])                        "
      ]
    },
    {
      "cell_type": "code",
      "execution_count": 251,
      "metadata": {
        "colab": {
          "base_uri": "https://localhost:8080/"
        },
        "id": "B7WYanH3EeI3",
        "outputId": "65a031f8-7332-4e00-99df-0e965835e73e"
      },
      "outputs": [
        {
          "data": {
            "text/plain": [
              "0.12722919037384012"
            ]
          },
          "execution_count": 251,
          "metadata": {},
          "output_type": "execute_result"
        }
      ],
      "source": [
        "#P-VALOR SEGÚN TEST DE X2\n",
        "stats.chi2_contingency(f_obs)[1]"
      ]
    },
    {
      "cell_type": "markdown",
      "metadata": {
        "id": "NOW55QOFE5jE"
      },
      "source": [
        "Dado que p-valor es > 0.05, por test de X2:\n",
        "\n",
        "**No es posible afirmar de forma estadística, con un 5% de significancia, que existe una relación entre MBA y las marcas escogidas.**\n",
        "\n",
        "---\n"
      ]
    },
    {
      "cell_type": "markdown",
      "metadata": {
        "id": "V5vvtO2-FSIF"
      },
      "source": [
        "#### MBA vs Clusters"
      ]
    },
    {
      "cell_type": "code",
      "execution_count": 252,
      "metadata": {
        "colab": {
          "base_uri": "https://localhost:8080/",
          "height": 143
        },
        "id": "ntbWLPieFD-9",
        "outputId": "42047fc6-d524-431d-dc6f-7a013234174a"
      },
      "outputs": [
        {
          "data": {
            "text/html": [
              "<div>\n",
              "<style scoped>\n",
              "    .dataframe tbody tr th:only-of-type {\n",
              "        vertical-align: middle;\n",
              "    }\n",
              "\n",
              "    .dataframe tbody tr th {\n",
              "        vertical-align: top;\n",
              "    }\n",
              "\n",
              "    .dataframe thead th {\n",
              "        text-align: right;\n",
              "    }\n",
              "</style>\n",
              "<table border=\"1\" class=\"dataframe\">\n",
              "  <thead>\n",
              "    <tr style=\"text-align: right;\">\n",
              "      <th>Cluster</th>\n",
              "      <th>Calidad</th>\n",
              "      <th>Clásicos</th>\n",
              "      <th>Comodidad</th>\n",
              "      <th>Tendencias</th>\n",
              "    </tr>\n",
              "    <tr>\n",
              "      <th>MBA</th>\n",
              "      <th></th>\n",
              "      <th></th>\n",
              "      <th></th>\n",
              "      <th></th>\n",
              "    </tr>\n",
              "  </thead>\n",
              "  <tbody>\n",
              "    <tr>\n",
              "      <th>MBA</th>\n",
              "      <td>12</td>\n",
              "      <td>2</td>\n",
              "      <td>6</td>\n",
              "      <td>4</td>\n",
              "    </tr>\n",
              "    <tr>\n",
              "      <th>Undergrad</th>\n",
              "      <td>6</td>\n",
              "      <td>7</td>\n",
              "      <td>23</td>\n",
              "      <td>13</td>\n",
              "    </tr>\n",
              "  </tbody>\n",
              "</table>\n",
              "</div>"
            ],
            "text/plain": [
              "Cluster    Calidad  Clásicos  Comodidad  Tendencias\n",
              "MBA                                                \n",
              "MBA             12         2          6           4\n",
              "Undergrad        6         7         23          13"
            ]
          },
          "execution_count": 252,
          "metadata": {},
          "output_type": "execute_result"
        }
      ],
      "source": [
        "tabla=pd.crosstab(df_mba.MBA, df_mba.Cluster, margins=False)\n",
        "tabla"
      ]
    },
    {
      "cell_type": "code",
      "execution_count": 253,
      "metadata": {
        "colab": {
          "base_uri": "https://localhost:8080/"
        },
        "id": "BmFW7upYFHzl",
        "outputId": "9c27a512-3732-49bc-e4c9-79fa6bfea516"
      },
      "outputs": [
        {
          "name": "stdout",
          "output_type": "stream",
          "text": [
            "[[ 5.91780822  2.95890411  9.53424658  5.5890411 ]\n",
            " [12.08219178  6.04109589 19.46575342 11.4109589 ]]\n"
          ]
        }
      ],
      "source": [
        "f_obs = np.array([tabla.iloc[0][:].values,\n",
        "                 tabla.iloc[1][:].values])\n",
        "#IMPRIME TABLA DE VALORES ESPERADOS\n",
        "print(stats.chi2_contingency(f_obs)[3])    "
      ]
    },
    {
      "cell_type": "code",
      "execution_count": 254,
      "metadata": {
        "colab": {
          "base_uri": "https://localhost:8080/"
        },
        "id": "yDFppe_HFJNd",
        "outputId": "9d9e7c57-9350-4091-869b-48eb27843104"
      },
      "outputs": [
        {
          "data": {
            "text/plain": [
              "0.006129163115297634"
            ]
          },
          "execution_count": 254,
          "metadata": {},
          "output_type": "execute_result"
        }
      ],
      "source": [
        "#P-VALOR SEGÚN TEST DE X2\n",
        "stats.chi2_contingency(f_obs)[1]"
      ]
    },
    {
      "cell_type": "markdown",
      "metadata": {
        "id": "3vrRGOa_FMMl"
      },
      "source": [
        "Dado que p-valor es < 0.05, por test de X2 se puede afirmar que: \n",
        "\n",
        "**Las variables MBA y los clusters encontrados se encuentran asociadas estadísticamente, con un 5% de significancia.**\n",
        "\n",
        "---"
      ]
    },
    {
      "cell_type": "markdown",
      "metadata": {
        "id": "1EktpmaTFV_V"
      },
      "source": [
        "#### Choice vs Clusters"
      ]
    },
    {
      "cell_type": "code",
      "execution_count": 255,
      "metadata": {
        "colab": {
          "base_uri": "https://localhost:8080/",
          "height": 175
        },
        "id": "58Qfo1_5FO2q",
        "outputId": "ea6e6526-a9ab-42d5-fa81-c5968a829e7e"
      },
      "outputs": [
        {
          "data": {
            "text/html": [
              "<div>\n",
              "<style scoped>\n",
              "    .dataframe tbody tr th:only-of-type {\n",
              "        vertical-align: middle;\n",
              "    }\n",
              "\n",
              "    .dataframe tbody tr th {\n",
              "        vertical-align: top;\n",
              "    }\n",
              "\n",
              "    .dataframe thead th {\n",
              "        text-align: right;\n",
              "    }\n",
              "</style>\n",
              "<table border=\"1\" class=\"dataframe\">\n",
              "  <thead>\n",
              "    <tr style=\"text-align: right;\">\n",
              "      <th>Cluster</th>\n",
              "      <th>Calidad</th>\n",
              "      <th>Clásicos</th>\n",
              "      <th>Comodidad</th>\n",
              "      <th>Tendencias</th>\n",
              "    </tr>\n",
              "    <tr>\n",
              "      <th>Choice</th>\n",
              "      <th></th>\n",
              "      <th></th>\n",
              "      <th></th>\n",
              "      <th></th>\n",
              "    </tr>\n",
              "  </thead>\n",
              "  <tbody>\n",
              "    <tr>\n",
              "      <th>BMW</th>\n",
              "      <td>8</td>\n",
              "      <td>6</td>\n",
              "      <td>10</td>\n",
              "      <td>8</td>\n",
              "    </tr>\n",
              "    <tr>\n",
              "      <th>Lexus</th>\n",
              "      <td>9</td>\n",
              "      <td>0</td>\n",
              "      <td>8</td>\n",
              "      <td>5</td>\n",
              "    </tr>\n",
              "    <tr>\n",
              "      <th>Mercedes</th>\n",
              "      <td>1</td>\n",
              "      <td>3</td>\n",
              "      <td>11</td>\n",
              "      <td>4</td>\n",
              "    </tr>\n",
              "  </tbody>\n",
              "</table>\n",
              "</div>"
            ],
            "text/plain": [
              "Cluster   Calidad  Clásicos  Comodidad  Tendencias\n",
              "Choice                                            \n",
              "BMW             8         6         10           8\n",
              "Lexus           9         0          8           5\n",
              "Mercedes        1         3         11           4"
            ]
          },
          "execution_count": 255,
          "metadata": {},
          "output_type": "execute_result"
        }
      ],
      "source": [
        "#tabla principal \n",
        "tabla=pd.crosstab(df_mba.Choice, df_mba.Cluster, margins=False)\n",
        "tabla"
      ]
    },
    {
      "cell_type": "code",
      "execution_count": 256,
      "metadata": {
        "colab": {
          "base_uri": "https://localhost:8080/"
        },
        "id": "Ip5MvPFvFO2s",
        "outputId": "d1730075-3f38-4997-af0a-d5d9a7588687"
      },
      "outputs": [
        {
          "name": "stdout",
          "output_type": "stream",
          "text": [
            "[[ 7.89041096  3.94520548 12.71232877  7.45205479]\n",
            " [ 5.42465753  2.71232877  8.73972603  5.12328767]\n",
            " [ 4.68493151  2.34246575  7.54794521  4.42465753]]\n"
          ]
        }
      ],
      "source": [
        "f_obs = np.array([tabla.iloc[0][:].values,\n",
        "                 tabla.iloc[1][:].values,\n",
        "                 tabla.iloc[2][:].values])\n",
        "#IMPRIME TABLA DE VALORES ESPERADOS\n",
        "print(stats.chi2_contingency(f_obs)[3])    "
      ]
    },
    {
      "cell_type": "code",
      "execution_count": 257,
      "metadata": {
        "colab": {
          "base_uri": "https://localhost:8080/"
        },
        "id": "RpcgU5hRFO2t",
        "outputId": "ff659ada-01a9-4bb5-fd7d-136c89cb62c4"
      },
      "outputs": [
        {
          "data": {
            "text/plain": [
              "0.07337590005340149"
            ]
          },
          "execution_count": 257,
          "metadata": {},
          "output_type": "execute_result"
        }
      ],
      "source": [
        "#P-VALOR SEGÚN TEST DE X2\n",
        "stats.chi2_contingency(f_obs)[1]\n"
      ]
    },
    {
      "attachments": {},
      "cell_type": "markdown",
      "metadata": {
        "id": "Pz_TbX2YFO2t"
      },
      "source": [
        "Dado que p-valor es > 0.05:\n",
        "\n",
        "**No es posible afirmar de forma estadística, con un 5% de significancia, que existe una relación entre Choice y los cluster encontrados**\n",
        "\n",
        "---\n",
        "\n",
        "* Con un riesgo mayor al 7.5%, si se podría considerar que estas variables están estadísticamente relacionadas.\n",
        "* Es posible repetir el análisis con el grupo MBA y Ungraded por separado, o incluir esa condición binaria como feature."
      ]
    },
    {
      "cell_type": "code",
      "execution_count": 258,
      "metadata": {},
      "outputs": [],
      "source": [
        "para_cluster2 = df_mba.iloc[:,:7] #puntajes features de acuerdo al entrevistado\n",
        "para_cluster2.replace({'MBA':1, 'Undergrad' : 0}, inplace=True)"
      ]
    },
    {
      "cell_type": "code",
      "execution_count": 259,
      "metadata": {},
      "outputs": [
        {
          "data": {
            "image/png": "[encoded data removed]",
            "text/plain": [
              "<Figure size 640x480 with 1 Axes>"
            ]
          },
          "metadata": {},
          "output_type": "display_data"
        }
      ],
      "source": [
        "#Estandarización {promedio = 0 y desviación std. = 1}\n",
        "scaler = StandardScaler()\n",
        "new_scaled = scaler.fit_transform(para_cluster2)\n",
        "new_scaled = pd.DataFrame(new_scaled, columns = para_cluster2.columns)\n",
        "#Criterio distancias para cluster\n",
        "link = linkage(new_scaled, 'ward')\n",
        "#Dendograma para k = 3\n",
        "dendrograma = dendrogram(link, p=20,truncate_mode=\"lastp\", color_threshold=9) #corte distancia 9 para 3 clusters\n",
        "plt.title(\"Cluster Jerarquico\")\n",
        "plt.ylabel(\"Distancia\")\n",
        "plt.show()"
      ]
    },
    {
      "cell_type": "code",
      "execution_count": 260,
      "metadata": {},
      "outputs": [
        {
          "data": {
            "text/html": [
              "<div>\n",
              "<style scoped>\n",
              "    .dataframe tbody tr th:only-of-type {\n",
              "        vertical-align: middle;\n",
              "    }\n",
              "\n",
              "    .dataframe tbody tr th {\n",
              "        vertical-align: top;\n",
              "    }\n",
              "\n",
              "    .dataframe thead th {\n",
              "        text-align: right;\n",
              "    }\n",
              "</style>\n",
              "<table border=\"1\" class=\"dataframe\">\n",
              "  <thead>\n",
              "    <tr style=\"text-align: right;\">\n",
              "      <th></th>\n",
              "      <th>Trendy</th>\n",
              "      <th>Styling</th>\n",
              "      <th>Reliability</th>\n",
              "      <th>Sportiness</th>\n",
              "      <th>Performance</th>\n",
              "      <th>Comfort</th>\n",
              "      <th>MBA</th>\n",
              "    </tr>\n",
              "    <tr>\n",
              "      <th>Cluster</th>\n",
              "      <th></th>\n",
              "      <th></th>\n",
              "      <th></th>\n",
              "      <th></th>\n",
              "      <th></th>\n",
              "      <th></th>\n",
              "      <th></th>\n",
              "    </tr>\n",
              "  </thead>\n",
              "  <tbody>\n",
              "    <tr>\n",
              "      <th>1</th>\n",
              "      <td>0.498489</td>\n",
              "      <td>1.139208</td>\n",
              "      <td>-0.575233</td>\n",
              "      <td>0.098192</td>\n",
              "      <td>-0.554900</td>\n",
              "      <td>-0.673340</td>\n",
              "      <td>-0.497119</td>\n",
              "    </tr>\n",
              "    <tr>\n",
              "      <th>2</th>\n",
              "      <td>0.000441</td>\n",
              "      <td>-0.582226</td>\n",
              "      <td>-0.196343</td>\n",
              "      <td>0.077254</td>\n",
              "      <td>0.346558</td>\n",
              "      <td>0.466968</td>\n",
              "      <td>-0.562517</td>\n",
              "    </tr>\n",
              "    <tr>\n",
              "      <th>3</th>\n",
              "      <td>-0.499140</td>\n",
              "      <td>-0.279731</td>\n",
              "      <td>0.865072</td>\n",
              "      <td>-0.212234</td>\n",
              "      <td>0.043315</td>\n",
              "      <td>-0.015994</td>\n",
              "      <td>1.327501</td>\n",
              "    </tr>\n",
              "  </tbody>\n",
              "</table>\n",
              "</div>"
            ],
            "text/plain": [
              "           Trendy   Styling  Reliability  Sportiness  Performance   Comfort   \n",
              "Cluster                                                                       \n",
              "1        0.498489  1.139208    -0.575233    0.098192    -0.554900 -0.673340  \\\n",
              "2        0.000441 -0.582226    -0.196343    0.077254     0.346558  0.466968   \n",
              "3       -0.499140 -0.279731     0.865072   -0.212234     0.043315 -0.015994   \n",
              "\n",
              "              MBA  \n",
              "Cluster            \n",
              "1       -0.497119  \n",
              "2       -0.562517  \n",
              "3        1.327501  "
            ]
          },
          "execution_count": 260,
          "metadata": {},
          "output_type": "execute_result"
        }
      ],
      "source": [
        "labels = fcluster(link, 9, criterion='distance')\n",
        "new_scaled[\"Cluster\"] = labels\n",
        "new_scaled.groupby([\"Cluster\"]).mean()"
      ]
    },
    {
      "attachments": {},
      "cell_type": "markdown",
      "metadata": {},
      "source": [
        "* **CLUSTER 1 \"ESTILO\"**: Destaca sobre todo en preferir el estilo. Prefiere tendencia sobre rendimiento y confianza.\n",
        "* **CLUSTER 2 \"MEDIA\"**: Le interesa rendimiento y comodida en justa medida. Grupo de variada opinión y menos interés en el estilo.\n",
        "* **CLUSTER 3 \"CONFIANZA\"**: Concentra mayoritariamente al conjunto de egresados MBA. Especial preferencia por confianza sacrificando tendencia.\n"
      ]
    },
    {
      "cell_type": "code",
      "execution_count": 261,
      "metadata": {},
      "outputs": [],
      "source": [
        "names = {1:\"Estilo\", 2:\"Media\", 3:\"Confianza\"} \n",
        "df_mba = pd.read_csv(mba)\n",
        "df_mba[\"Cluster\"] = labels\n",
        "df_mba = df_mba.replace({\"Cluster\": names})\n",
        "df_mba.drop('ID',axis=1,inplace=True)"
      ]
    },
    {
      "cell_type": "code",
      "execution_count": 262,
      "metadata": {},
      "outputs": [
        {
          "data": {
            "text/html": [
              "<div>\n",
              "<style scoped>\n",
              "    .dataframe tbody tr th:only-of-type {\n",
              "        vertical-align: middle;\n",
              "    }\n",
              "\n",
              "    .dataframe tbody tr th {\n",
              "        vertical-align: top;\n",
              "    }\n",
              "\n",
              "    .dataframe thead th {\n",
              "        text-align: right;\n",
              "    }\n",
              "</style>\n",
              "<table border=\"1\" class=\"dataframe\">\n",
              "  <thead>\n",
              "    <tr style=\"text-align: right;\">\n",
              "      <th></th>\n",
              "      <th>Trendy</th>\n",
              "      <th>Styling</th>\n",
              "      <th>Reliability</th>\n",
              "      <th>Sportiness</th>\n",
              "      <th>Performance</th>\n",
              "      <th>Comfort</th>\n",
              "      <th>MBA</th>\n",
              "      <th>Choice</th>\n",
              "      <th>Cluster</th>\n",
              "    </tr>\n",
              "  </thead>\n",
              "  <tbody>\n",
              "    <tr>\n",
              "      <th>0</th>\n",
              "      <td>10</td>\n",
              "      <td>20</td>\n",
              "      <td>35</td>\n",
              "      <td>5</td>\n",
              "      <td>20</td>\n",
              "      <td>10</td>\n",
              "      <td>MBA</td>\n",
              "      <td>Lexus</td>\n",
              "      <td>Confianza</td>\n",
              "    </tr>\n",
              "    <tr>\n",
              "      <th>1</th>\n",
              "      <td>25</td>\n",
              "      <td>5</td>\n",
              "      <td>25</td>\n",
              "      <td>5</td>\n",
              "      <td>25</td>\n",
              "      <td>15</td>\n",
              "      <td>MBA</td>\n",
              "      <td>BMW</td>\n",
              "      <td>Media</td>\n",
              "    </tr>\n",
              "    <tr>\n",
              "      <th>2</th>\n",
              "      <td>10</td>\n",
              "      <td>20</td>\n",
              "      <td>30</td>\n",
              "      <td>10</td>\n",
              "      <td>10</td>\n",
              "      <td>20</td>\n",
              "      <td>MBA</td>\n",
              "      <td>Lexus</td>\n",
              "      <td>Confianza</td>\n",
              "    </tr>\n",
              "    <tr>\n",
              "      <th>3</th>\n",
              "      <td>10</td>\n",
              "      <td>15</td>\n",
              "      <td>30</td>\n",
              "      <td>10</td>\n",
              "      <td>20</td>\n",
              "      <td>15</td>\n",
              "      <td>MBA</td>\n",
              "      <td>BMW</td>\n",
              "      <td>Confianza</td>\n",
              "    </tr>\n",
              "    <tr>\n",
              "      <th>4</th>\n",
              "      <td>20</td>\n",
              "      <td>10</td>\n",
              "      <td>40</td>\n",
              "      <td>1</td>\n",
              "      <td>14</td>\n",
              "      <td>15</td>\n",
              "      <td>MBA</td>\n",
              "      <td>Mercedes</td>\n",
              "      <td>Confianza</td>\n",
              "    </tr>\n",
              "  </tbody>\n",
              "</table>\n",
              "</div>"
            ],
            "text/plain": [
              "   Trendy  Styling  Reliability  Sportiness  Performance  Comfort  MBA   \n",
              "0      10       20           35           5           20       10  MBA  \\\n",
              "1      25        5           25           5           25       15  MBA   \n",
              "2      10       20           30          10           10       20  MBA   \n",
              "3      10       15           30          10           20       15  MBA   \n",
              "4      20       10           40           1           14       15  MBA   \n",
              "\n",
              "     Choice    Cluster  \n",
              "0     Lexus  Confianza  \n",
              "1       BMW      Media  \n",
              "2     Lexus  Confianza  \n",
              "3       BMW  Confianza  \n",
              "4  Mercedes  Confianza  "
            ]
          },
          "execution_count": 262,
          "metadata": {},
          "output_type": "execute_result"
        }
      ],
      "source": [
        "df_mba.head(5)"
      ]
    },
    {
      "cell_type": "code",
      "execution_count": 263,
      "metadata": {},
      "outputs": [
        {
          "data": {
            "text/html": [
              "<div>\n",
              "<style scoped>\n",
              "    .dataframe tbody tr th:only-of-type {\n",
              "        vertical-align: middle;\n",
              "    }\n",
              "\n",
              "    .dataframe tbody tr th {\n",
              "        vertical-align: top;\n",
              "    }\n",
              "\n",
              "    .dataframe thead th {\n",
              "        text-align: right;\n",
              "    }\n",
              "</style>\n",
              "<table border=\"1\" class=\"dataframe\">\n",
              "  <thead>\n",
              "    <tr style=\"text-align: right;\">\n",
              "      <th>Cluster</th>\n",
              "      <th>Confianza</th>\n",
              "      <th>Estilo</th>\n",
              "      <th>Media</th>\n",
              "    </tr>\n",
              "    <tr>\n",
              "      <th>Choice</th>\n",
              "      <th></th>\n",
              "      <th></th>\n",
              "      <th></th>\n",
              "    </tr>\n",
              "  </thead>\n",
              "  <tbody>\n",
              "    <tr>\n",
              "      <th>BMW</th>\n",
              "      <td>9</td>\n",
              "      <td>10</td>\n",
              "      <td>13</td>\n",
              "    </tr>\n",
              "    <tr>\n",
              "      <th>Lexus</th>\n",
              "      <td>10</td>\n",
              "      <td>5</td>\n",
              "      <td>7</td>\n",
              "    </tr>\n",
              "    <tr>\n",
              "      <th>Mercedes</th>\n",
              "      <td>2</td>\n",
              "      <td>6</td>\n",
              "      <td>11</td>\n",
              "    </tr>\n",
              "  </tbody>\n",
              "</table>\n",
              "</div>"
            ],
            "text/plain": [
              "Cluster   Confianza  Estilo  Media\n",
              "Choice                            \n",
              "BMW               9      10     13\n",
              "Lexus            10       5      7\n",
              "Mercedes          2       6     11"
            ]
          },
          "execution_count": 263,
          "metadata": {},
          "output_type": "execute_result"
        }
      ],
      "source": [
        "#tabla principal \n",
        "tabla=pd.crosstab(df_mba.Choice, df_mba.Cluster, margins=False)\n",
        "tabla"
      ]
    },
    {
      "cell_type": "code",
      "execution_count": 264,
      "metadata": {},
      "outputs": [
        {
          "name": "stdout",
          "output_type": "stream",
          "text": [
            "[[ 9.20547945  9.20547945 13.5890411 ]\n",
            " [ 6.32876712  6.32876712  9.34246575]\n",
            " [ 5.46575342  5.46575342  8.06849315]]\n"
          ]
        }
      ],
      "source": [
        "f_obs = np.array([tabla.iloc[0][:].values,\n",
        "                 tabla.iloc[1][:].values,\n",
        "                 tabla.iloc[2][:].values])\n",
        "#IMPRIME TABLA DE VALORES ESPERADOS\n",
        "print(stats.chi2_contingency(f_obs)[3])    "
      ]
    },
    {
      "cell_type": "code",
      "execution_count": 265,
      "metadata": {},
      "outputs": [
        {
          "data": {
            "text/plain": [
              "0.17057977255851842"
            ]
          },
          "execution_count": 265,
          "metadata": {},
          "output_type": "execute_result"
        }
      ],
      "source": [
        "#P-VALOR SEGÚN TEST DE X2\n",
        "stats.chi2_contingency(f_obs)[1]"
      ]
    },
    {
      "attachments": {},
      "cell_type": "markdown",
      "metadata": {},
      "source": [
        "Dado que p-valor es > 0.05:\n",
        "\n",
        "**No es posible afirmar de forma estadística, con un 5% de significancia, que existe una relación entre Choice y los cluster encontrados**\n",
        "\n",
        "----\n",
        "* Añadir a los grupos MBA y Undergrad como feature a la segmentación no genera mayor correlación entre Choice y los Cluster"
      ]
    }
  ],
  "metadata": {
    "colab": {
      "provenance": []
    },
    "kernelspec": {
      "display_name": "Python 3",
      "name": "python3"
    },
    "language_info": {
      "codemirror_mode": {
        "name": "ipython",
        "version": 3
      },
      "file_extension": ".py",
      "mimetype": "text/x-python",
      "name": "python",
      "nbconvert_exporter": "python",
      "pygments_lexer": "ipython3",
      "version": "3.11.3"
    }
  },
  "nbformat": 4,
  "nbformat_minor": 0
}
